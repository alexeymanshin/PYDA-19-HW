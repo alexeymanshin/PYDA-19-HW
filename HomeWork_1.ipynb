{
 "cells": [
  {
   "cell_type": "markdown",
   "metadata": {},
   "source": [
    "# Задание 1"
   ]
  },
  {
   "cell_type": "code",
   "execution_count": 1,
   "metadata": {},
   "outputs": [
    {
     "name": "stdout",
     "output_type": "stream",
     "text": [
      "Фраза 1 длиннее фразы 2\n"
     ]
    }
   ],
   "source": [
    "phrase_1 = 'Насколько проще было бы писать программы, если бы не заказчики'\n",
    "phrase_2 = '640Кб должно хватить для любых задач. Билл Гейтс (по легенде)'\n",
    "if len(phrase_1) > len(phrase_2):\n",
    "    print('Фраза 1 длиннее фразы 2')\n",
    "if len(phrase_1) < len(phrase_2):\n",
    "    print('Фраза 2 длиннее фразы 1')\n",
    "if len(phrase_1) == len(phrase_2):\n",
    "    print('Фразы равной длинны')"
   ]
  },
  {
   "cell_type": "code",
   "execution_count": 16,
   "metadata": {},
   "outputs": [
    {
     "name": "stdout",
     "output_type": "stream",
     "text": [
      "Фраза 2 длиннее фразы 1\n"
     ]
    }
   ],
   "source": [
    "phrase_1 = '640Кб должно хватить для любых задач. Билл Гейтс (по легенде)'\n",
    "phrase_2 = 'Насколько проще было бы писать программы, если бы не заказчики'\n",
    "if len(phrase_1) > len(phrase_2):\n",
    "    print('Фраза 1 длиннее фразы 2')\n",
    "elif len(phrase_1) < len(phrase_2):\n",
    "    print('Фраза 2 длиннее фразы 1')\n",
    "elif len(phrase_1) == len(phrase_2):\n",
    "    print('Фразы равной длинны')"
   ]
  },
  {
   "cell_type": "code",
   "execution_count": 17,
   "metadata": {},
   "outputs": [
    {
     "name": "stdout",
     "output_type": "stream",
     "text": [
      "Фразы равной длинны\n"
     ]
    }
   ],
   "source": [
    "phrase_1 = 'Насколько проще было бы писать программы, если бы не заказчики'\n",
    "phrase_2 = 'Насколько проще было бы писать программы, если бы не заказчики'\n",
    "if len(phrase_1) > len(phrase_2):\n",
    "    print('Фраза 1 длиннее фразы 2')\n",
    "elif len(phrase_1) < len(phrase_2):\n",
    "    print('Фраза 2 длиннее фразы 1')\n",
    "elif len(phrase_1) == len(phrase_2):\n",
    "    print('Фразы равной длинны')"
   ]
  },
  {
   "cell_type": "markdown",
   "metadata": {},
   "source": [
    "# Задание 2"
   ]
  },
  {
   "cell_type": "code",
   "execution_count": null,
   "metadata": {},
   "outputs": [],
   "source": [
    "A = int (input())\n",
    "if ((A%4 == 0 and A%100 != 0) or (A%400 == 0)):\n",
    "  print('Високосный')\n",
    "else:\n",
    "  print('Обычный')"
   ]
  },
  {
   "cell_type": "markdown",
   "metadata": {},
   "source": [
    "# Задание 3"
   ]
  },
  {
   "cell_type": "code",
   "execution_count": null,
   "metadata": {},
   "outputs": [],
   "source": [
    "date=int(input(\"Введите день рождения:\"))\n",
    "\n",
    "month=int(input(\"Введите месяц рождения:\"))\n",
    "\n",
    "year=int(input(\"Введите год рождения:\"))\n",
    "\n",
    "\n",
    "if (date>=21 and date<=31 and month==3) or( month==4 and date>=1 and date<=19):\n",
    "\n",
    "   print(\"Знак зодиака:Овен\")\n",
    "\n",
    "elif (date>=20 and date<=30 and month==4) or( month==5 and date>=1 and date<=20):\n",
    "\n",
    "   print(\"Знак зодиака:Телец\")\n",
    "\n",
    "elif (date>=21 and date<=31 and month==5) or( month==6 and date>=1 and date<=21):\n",
    "\n",
    "   print(\"Знак зодиака:Близнецы\")\n",
    "\n",
    "elif (date>=22 and date<=30 and month==6) or( month==7 and date>=1 and date<=22):\n",
    "\n",
    "   print(\"Знак зодиака:Рак\")\n",
    "\n",
    "elif (date>=23 and date<=31 and month==7) or( month==8 and date>=1 and date<=22):\n",
    "\n",
    "   print(\"Знак зодиака:Лев\")\n",
    "\n",
    "elif (date>=23 and date<=31 and month==8) or( month==9 and date>=1 and date<=22):\n",
    "\n",
    "   print(\"Знак зодиака:Дева\")\n",
    "\n",
    "elif (date>=23 and date<=30 and month==9) or( month==10 and date>=1 and date<=23):\n",
    "\n",
    "   print(\"Знак зодиака:Весы\")\n",
    "\n",
    "elif (date>=24 and date<=31 and month==10) or( month==11 and date>=1 and date<=22):\n",
    "\n",
    "   print(\"Знак зодиака:Скорпион\")\n",
    "\n",
    "elif (date>=23 and date<=30 and month==11) or( month==12 and date>=1 and date<=21):\n",
    "\n",
    "   print(\"Знак зодиака:Стрелец\")\n",
    "\n",
    "elif (date>=22 and date<=31 and month==12) or( month==1 and date>=1 and date<=20):\n",
    "\n",
    "   print(\"Знак зодиака:Козерог\")\n",
    "\n",
    "elif (date>=21 and date<=31 and month==1) or( month==2 and date>=1 and date<=18):\n",
    "\n",
    "   print(\"Знак зодиака:Водолей\")\n",
    "\n",
    "elif (date>=19 and date<=29 and month==2) or( month==3 and date>=1 and date<=20):\n",
    "\n",
    "   print(\"Знак зодиака:Рыбы\")"
   ]
  },
  {
   "cell_type": "code",
   "execution_count": 15,
   "metadata": {},
   "outputs": [
    {
     "name": "stdout",
     "output_type": "stream",
     "text": [
      "Введите ширину:40\n",
      "Введите длинну:25\n",
      "Введите высоту:15\n",
      "Коробка №2\n"
     ]
    }
   ],
   "source": [
    "width=int(input(\"Введите ширину:\"))\n",
    "\n",
    "length=int(input(\"Введите длинну:\"))\n",
    "\n",
    "height=int(input(\"Введите высоту:\"))\n",
    "\n",
    "if(width<=15 and length<=15 and height<=15):\n",
    "    print('Коробка №1')\n",
    "elif (width>15 and width<=50) or (length>15 and length<=50) or (height>15 and height<=50):\n",
    "    print('Коробка №2')\n",
    "elif (width>=200) or (height>=200) or (length>=200):\n",
    "    print('Корбка для лыж')"
   ]
  },
  {
   "cell_type": "markdown",
   "metadata": {},
   "source": [
    "# Является лиё билет “счастливым”"
   ]
  },
  {
   "cell_type": "code",
   "execution_count": 29,
   "metadata": {},
   "outputs": [
    {
     "name": "stdout",
     "output_type": "stream",
     "text": [
      "Введите номер билета из 6 цифр: 123456\n",
      "Обычный\n"
     ]
    }
   ],
   "source": [
    "biletik = input(\"Введите номер билета из 6 цифр: \")\n",
    "numbers = list(biletik)\n",
    "numbers = [int(i) for i in numbers]\n",
    "if (sum(numbers[:3]) == sum(numbers[3:])):\n",
    "    print(\"Счастливый\")\n",
    "else:\n",
    "    print(\"Обычный\")"
   ]
  },
  {
   "cell_type": "markdown",
   "metadata": {},
   "source": [
    "# Найти площади разных фигур"
   ]
  },
  {
   "cell_type": "code",
   "execution_count": 24,
   "metadata": {},
   "outputs": [
    {
     "name": "stdout",
     "output_type": "stream",
     "text": [
      "Круг(к), прямоугольник(п) или треугольник(т): к\n",
      "Радиус: %.2f10\n",
      "Площадь круга: 314.16\n"
     ]
    }
   ],
   "source": [
    "import math\n",
    " \n",
    "def circle(r):\n",
    "    return math.pi * r**2\n",
    " \n",
    "def rectangle(a, b):\n",
    "    return a*b\n",
    " \n",
    "def triangle(a, b, c):\n",
    "    p = (a+b+c)/2\n",
    "    return math.sqrt(p * (p-a) * (p-b) * (p-c))\n",
    " \n",
    "choice = input(\"Круг(к), прямоугольник(п) или треугольник(т): \")\n",
    "if choice == 'к':\n",
    "    rad = float(input(\"Радиус: %.2f\"))\n",
    "    print(\"Площадь круга: %.2f\" % circle(rad))\n",
    "elif choice == 'п':\n",
    "    l = float(input(\"Длина: \"))\n",
    "    w = float(input(\"Ширина: \"))\n",
    "    print(\"Площадь прямоугольника: %.2f\" % rectangle(l,w))\n",
    "elif choice == 'т':\n",
    "    AB = float(input(\"Первая сторона: \"))\n",
    "    BC = float(input(\"Вторая сторона: \"))\n",
    "    CA = float(input(\"Третья сторона: \"))\n",
    "    print(\"Площадь треугольника: %.2f\" % triangle(AB,BC,CA))"
   ]
  }
 ],
 "metadata": {
  "kernelspec": {
   "display_name": "Python 3",
   "language": "python",
   "name": "python3"
  },
  "language_info": {
   "codemirror_mode": {
    "name": "ipython",
    "version": 3
   },
   "file_extension": ".py",
   "mimetype": "text/x-python",
   "name": "python",
   "nbconvert_exporter": "python",
   "pygments_lexer": "ipython3",
   "version": "3.8.3"
  }
 },
 "nbformat": 4,
 "nbformat_minor": 4
}
